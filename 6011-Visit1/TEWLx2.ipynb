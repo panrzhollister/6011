{
 "cells": [
  {
   "cell_type": "markdown",
   "metadata": {
    "toc": true
   },
   "source": [
    "<h1>Table of Contents<span class=\"tocSkip\"></span></h1>\n",
    "<div class=\"toc\"><ul class=\"toc-item\"><li><span><a href=\"#get-data\" data-toc-modified-id=\"get-data-1\"><span class=\"toc-item-num\">1&nbsp;&nbsp;</span>get data</a></span></li><li><span><a href=\"#compare-results-from-TEWL-probe-A-and-TEWL-probe-B-to-test-whether-data-from-different-probles-have-significant-difference\" data-toc-modified-id=\"compare-results-from-TEWL-probe-A-and-TEWL-probe-B-to-test-whether-data-from-different-probles-have-significant-difference-2\"><span class=\"toc-item-num\">2&nbsp;&nbsp;</span>compare results from TEWL probe A and TEWL probe B to test whether data from different probles have significant difference</a></span><ul class=\"toc-item\"><li><span><a href=\"#Flextend\" data-toc-modified-id=\"Flextend-2.1\"><span class=\"toc-item-num\">2.1&nbsp;&nbsp;</span>Flextend</a></span></li><li><span><a href=\"#Ceraplus\" data-toc-modified-id=\"Ceraplus-2.2\"><span class=\"toc-item-num\">2.2&nbsp;&nbsp;</span>Ceraplus</a></span></li></ul></li><li><span><a href=\"#at-each-measure-peel-for-Flex\" data-toc-modified-id=\"at-each-measure-peel-for-Flex-3\"><span class=\"toc-item-num\">3&nbsp;&nbsp;</span>at each measure peel for Flex</a></span><ul class=\"toc-item\"><li><span><a href=\"#Flextend\" data-toc-modified-id=\"Flextend-3.1\"><span class=\"toc-item-num\">3.1&nbsp;&nbsp;</span>Flextend</a></span></li><li><span><a href=\"#Ceraplus\" data-toc-modified-id=\"Ceraplus-3.2\"><span class=\"toc-item-num\">3.2&nbsp;&nbsp;</span>Ceraplus</a></span></li></ul></li></ul></div>"
   ]
  },
  {
   "cell_type": "markdown",
   "metadata": {},
   "source": [
    "# get data "
   ]
  },
  {
   "cell_type": "code",
   "execution_count": 1,
   "metadata": {},
   "outputs": [],
   "source": [
    "from mlxtend.evaluate import permutation_test\n",
    "from math import comb\n",
    "\n",
    "import pandas as pd\n",
    "import numpy as np\n",
    "import matplotlib.pyplot as plt\n",
    "from statsmodels.stats.anova import AnovaRM\n",
    "from scipy.stats import ttest_rel\n",
    "from scipy.stats import mannwhitneyu\n",
    "from scipy.stats import describe\n",
    "from scipy.stats import ttest_ind\n",
    "from scipy.stats import wilcoxon\n",
    "import seaborn as sb"
   ]
  },
  {
   "cell_type": "code",
   "execution_count": 6,
   "metadata": {},
   "outputs": [],
   "source": [
    "path = '~/Desktop/6011_code/v1Data/v1Data/'\n",
    "name = 'S20-20_Sorted_TEWL_V1_4Sponsor.xlsx'\n",
    "v1_TEWL=pd.read_excel(path+name,sheet_name='v1-TEWLx2')"
   ]
  },
  {
   "cell_type": "code",
   "execution_count": 13,
   "metadata": {},
   "outputs": [
    {
     "data": {
      "text/html": [
       "<div>\n",
       "<style scoped>\n",
       "    .dataframe tbody tr th:only-of-type {\n",
       "        vertical-align: middle;\n",
       "    }\n",
       "\n",
       "    .dataframe tbody tr th {\n",
       "        vertical-align: top;\n",
       "    }\n",
       "\n",
       "    .dataframe thead th {\n",
       "        text-align: right;\n",
       "    }\n",
       "</style>\n",
       "<table border=\"1\" class=\"dataframe\">\n",
       "  <thead>\n",
       "    <tr style=\"text-align: right;\">\n",
       "      <th></th>\n",
       "      <th>ID</th>\n",
       "      <th>TimePT</th>\n",
       "      <th>Probe</th>\n",
       "      <th>A</th>\n",
       "      <th>B</th>\n",
       "    </tr>\n",
       "  </thead>\n",
       "  <tbody>\n",
       "    <tr>\n",
       "      <th>1</th>\n",
       "      <td>1</td>\n",
       "      <td>0</td>\n",
       "      <td>ProbeB</td>\n",
       "      <td>3.39</td>\n",
       "      <td>2.44</td>\n",
       "    </tr>\n",
       "    <tr>\n",
       "      <th>3</th>\n",
       "      <td>1</td>\n",
       "      <td>3</td>\n",
       "      <td>ProbeB</td>\n",
       "      <td>8.09</td>\n",
       "      <td>5.95</td>\n",
       "    </tr>\n",
       "    <tr>\n",
       "      <th>5</th>\n",
       "      <td>1</td>\n",
       "      <td>5</td>\n",
       "      <td>ProbeB</td>\n",
       "      <td>34.15</td>\n",
       "      <td>20.03</td>\n",
       "    </tr>\n",
       "    <tr>\n",
       "      <th>7</th>\n",
       "      <td>1</td>\n",
       "      <td>6</td>\n",
       "      <td>ProbeB</td>\n",
       "      <td>60.91</td>\n",
       "      <td>31.69</td>\n",
       "    </tr>\n",
       "    <tr>\n",
       "      <th>9</th>\n",
       "      <td>1</td>\n",
       "      <td>6+</td>\n",
       "      <td>ProbeB</td>\n",
       "      <td>66.69</td>\n",
       "      <td>46.08</td>\n",
       "    </tr>\n",
       "  </tbody>\n",
       "</table>\n",
       "</div>"
      ],
      "text/plain": [
       "   ID TimePT   Probe      A      B\n",
       "1   1      0  ProbeB   3.39   2.44\n",
       "3   1      3  ProbeB   8.09   5.95\n",
       "5   1      5  ProbeB  34.15  20.03\n",
       "7   1      6  ProbeB  60.91  31.69\n",
       "9   1     6+  ProbeB  66.69  46.08"
      ]
     },
     "execution_count": 13,
     "metadata": {},
     "output_type": "execute_result"
    }
   ],
   "source": [
    "v1_TEWL[v1_TEWL.Probe=='ProbeA'].head()\n",
    "v1_TEWL[v1_TEWL.Probe=='ProbeB'].head()"
   ]
  },
  {
   "cell_type": "markdown",
   "metadata": {},
   "source": [
    "# compare results from TEWL probe A and TEWL probe B to test whether data from different probles have significant difference"
   ]
  },
  {
   "cell_type": "code",
   "execution_count": 9,
   "metadata": {},
   "outputs": [],
   "source": [
    "path = '~/Desktop/6011_code/v1Data/v1Data/'\n",
    "name = 'S20-20_Sorted_TEWL_V1_4Sponsor.xlsx'\n",
    "v1all_TEWL =pd.read_excel(path+name,sheet_name='RAW_TEWLx2')"
   ]
  },
  {
   "cell_type": "markdown",
   "metadata": {},
   "source": [
    "## Flextend"
   ]
  },
  {
   "cell_type": "code",
   "execution_count": 10,
   "metadata": {},
   "outputs": [
    {
     "data": {
      "image/png": "[encoded data removed]",
      "text/plain": [
       "<Figure size 432x288 with 1 Axes>"
      ]
     },
     "metadata": {
      "needs_background": "light"
     },
     "output_type": "display_data"
    },
    {
     "name": "stdout",
     "output_type": "stream",
     "text": [
      "0 out of 50 rounds of permutation test gives p<0.05\n"
     ]
    }
   ],
   "source": [
    "plt.boxplot({'ProbeA':v1all_TEWL[v1all_TEWL.Probe=='ProbeA']['A'],'ProbeB':v1all_TEWL[v1all_TEWL.Probe=='ProbeB']['A']}.values())\n",
    "plt.show()\n",
    "p=0\n",
    "p_values=[]\n",
    "for n in range(50):\n",
    "    p_value = permutation_test(v1all_TEWL[v1all_TEWL.Probe=='ProbeA']['A'],v1all_TEWL[v1all_TEWL.Probe=='ProbeB']['A'],method='approximate',num_rounds=1000,seed=n)\n",
    "    if p_value<0.05:\n",
    "        p+=1\n",
    "    p_values += [p_value]\n",
    "print(p,'out of 50 rounds of permutation test gives p<0.05')\n",
    "# print(p_values)"
   ]
  },
  {
   "cell_type": "markdown",
   "metadata": {},
   "source": [
    "## Ceraplus"
   ]
  },
  {
   "cell_type": "code",
   "execution_count": 12,
   "metadata": {},
   "outputs": [
    {
     "data": {
      "image/png": "[encoded data removed]",
      "text/plain": [
       "<Figure size 432x288 with 1 Axes>"
      ]
     },
     "metadata": {
      "needs_background": "light"
     },
     "output_type": "display_data"
    },
    {
     "name": "stdout",
     "output_type": "stream",
     "text": [
      "0 out of 50 rounds of permutation test gives p<0.05\n"
     ]
    }
   ],
   "source": [
    "plt.boxplot({'ProbeA':v1all_TEWL[v1all_TEWL.Probe=='ProbeA']['B'],'ProbeB':v1all_TEWL[v1all_TEWL.Probe=='ProbeB']['B']}.values())\n",
    "plt.show()\n",
    "p=0\n",
    "p_values=[]\n",
    "for n in range(50):\n",
    "    p_value = permutation_test(v1all_TEWL[v1all_TEWL.Probe=='ProbeA']['B'],v1all_TEWL[v1all_TEWL.Probe=='ProbeB']['B'],method='approximate',num_rounds=1000,seed=n)\n",
    "    if p_value<0.05:\n",
    "        p+=1\n",
    "    p_values += [p_value]\n",
    "print(p,'out of 50 rounds of permutation test gives p<0.05')\n",
    "# print(p_values)"
   ]
  },
  {
   "cell_type": "markdown",
   "metadata": {},
   "source": [
    "# at each measure peel for Flex"
   ]
  },
  {
   "cell_type": "markdown",
   "metadata": {},
   "source": [
    "## Flextend"
   ]
  },
  {
   "cell_type": "code",
   "execution_count": 11,
   "metadata": {},
   "outputs": [
    {
     "data": {
      "image/png": "[encoded data removed]",
      "text/plain": [
       "<Figure size 432x288 with 1 Axes>"
      ]
     },
     "metadata": {
      "needs_background": "light"
     },
     "output_type": "display_data"
    },
    {
     "name": "stdout",
     "output_type": "stream",
     "text": [
      "0 out of 50 rounds of permutation test gives p<0.05 for  0\n"
     ]
    },
    {
     "data": {
      "image/png": "[encoded data removed]",
      "text/plain": [
       "<Figure size 432x288 with 1 Axes>"
      ]
     },
     "metadata": {
      "needs_background": "light"
     },
     "output_type": "display_data"
    },
    {
     "name": "stdout",
     "output_type": "stream",
     "text": [
      "0 out of 50 rounds of permutation test gives p<0.05 for  3\n"
     ]
    },
    {
     "data": {
      "image/png": "[encoded data removed]",
      "text/plain": [
       "<Figure size 432x288 with 1 Axes>"
      ]
     },
     "metadata": {
      "needs_background": "light"
     },
     "output_type": "display_data"
    },
    {
     "name": "stdout",
     "output_type": "stream",
     "text": [
      "0 out of 50 rounds of permutation test gives p<0.05 for  5\n"
     ]
    },
    {
     "data": {
      "image/png": "[encoded data removed]",
      "text/plain": [
       "<Figure size 432x288 with 1 Axes>"
      ]
     },
     "metadata": {
      "needs_background": "light"
     },
     "output_type": "display_data"
    },
    {
     "name": "stdout",
     "output_type": "stream",
     "text": [
      "0 out of 50 rounds of permutation test gives p<0.05 for  6\n"
     ]
    },
    {
     "data": {
      "image/png": "[encoded data removed]",
      "text/plain": [
       "<Figure size 432x288 with 1 Axes>"
      ]
     },
     "metadata": {
      "needs_background": "light"
     },
     "output_type": "display_data"
    },
    {
     "name": "stdout",
     "output_type": "stream",
     "text": [
      "0 out of 50 rounds of permutation test gives p<0.05 for  6+\n"
     ]
    }
   ],
   "source": [
    "for t in v1all_TEWL.TimePT.unique():\n",
    "    plt.boxplot({'ProbeA':v1all_TEWL[(v1all_TEWL.Probe=='ProbeA')&(v1all_TEWL.TimePT==t)]['A'],'ProbeB':v1all_TEWL[(v1all_TEWL.Probe=='ProbeB')&(v1all_TEWL.TimePT==t)]['A']}.values())\n",
    "    plt.show()\n",
    "    p=0\n",
    "    p_values=[]\n",
    "    for n in range(50):\n",
    "        p_value = permutation_test(v1all_TEWL[v1all_TEWL.Probe=='ProbeA']['A'],v1all_TEWL[v1all_TEWL.Probe=='ProbeB']['A'],method='approximate',num_rounds=1000,seed=n)\n",
    "        if p_value<0.05:\n",
    "            p+=1\n",
    "        p_values += [p_value]\n",
    "    print(p,'out of 50 rounds of permutation test gives p<0.05 for ',t)\n",
    "    # print(p_values)"
   ]
  },
  {
   "cell_type": "markdown",
   "metadata": {},
   "source": [
    "## Ceraplus"
   ]
  },
  {
   "cell_type": "code",
   "execution_count": 16,
   "metadata": {},
   "outputs": [
    {
     "data": {
      "image/png": "[encoded data removed]",
      "text/plain": [
       "<Figure size 432x288 with 1 Axes>"
      ]
     },
     "metadata": {
      "needs_background": "light"
     },
     "output_type": "display_data"
    },
    {
     "name": "stdout",
     "output_type": "stream",
     "text": [
      "0 out of 50 rounds of permutation test gives p<0.05 for  0\n"
     ]
    },
    {
     "data": {
      "image/png": "[encoded data removed]",
      "text/plain": [
       "<Figure size 432x288 with 1 Axes>"
      ]
     },
     "metadata": {
      "needs_background": "light"
     },
     "output_type": "display_data"
    },
    {
     "name": "stdout",
     "output_type": "stream",
     "text": [
      "0 out of 50 rounds of permutation test gives p<0.05 for  3\n"
     ]
    },
    {
     "data": {
      "image/png": "[encoded data removed]",
      "text/plain": [
       "<Figure size 432x288 with 1 Axes>"
      ]
     },
     "metadata": {
      "needs_background": "light"
     },
     "output_type": "display_data"
    },
    {
     "name": "stdout",
     "output_type": "stream",
     "text": [
      "0 out of 50 rounds of permutation test gives p<0.05 for  5\n"
     ]
    },
    {
     "data": {
      "image/png": "[encoded data removed]",
      "text/plain": [
       "<Figure size 432x288 with 1 Axes>"
      ]
     },
     "metadata": {
      "needs_background": "light"
     },
     "output_type": "display_data"
    },
    {
     "name": "stdout",
     "output_type": "stream",
     "text": [
      "0 out of 50 rounds of permutation test gives p<0.05 for  6\n"
     ]
    },
    {
     "data": {
      "image/png": "[encoded data removed]",
      "text/plain": [
       "<Figure size 432x288 with 1 Axes>"
      ]
     },
     "metadata": {
      "needs_background": "light"
     },
     "output_type": "display_data"
    },
    {
     "name": "stdout",
     "output_type": "stream",
     "text": [
      "0 out of 50 rounds of permutation test gives p<0.05 for  6+\n"
     ]
    }
   ],
   "source": [
    "for t in v1all_TEWL.TimePT.unique():\n",
    "    plt.boxplot({'ProbeA':v1all_TEWL[(v1all_TEWL.Probe=='ProbeA')&(v1all_TEWL.TimePT==t)]['B'],'ProbeB':v1all_TEWL[(v1all_TEWL.Probe=='ProbeB')&(v1all_TEWL.TimePT==t)]['B']}.values())\n",
    "    plt.show()\n",
    "    p=0\n",
    "    p_values=[]\n",
    "    for n in range(50):\n",
    "        p_value = permutation_test(v1all_TEWL[v1all_TEWL.Probe=='ProbeA']['B'],v1all_TEWL[v1all_TEWL.Probe=='ProbeB']['B'],method='approximate',num_rounds=1000,seed=n)\n",
    "        if p_value<0.05:\n",
    "            p+=1\n",
    "        p_values += [p_value]\n",
    "    print(p,'out of 50 rounds of permutation test gives p<0.05 for ',t)\n",
    "    # print(p_values)"
   ]
  },
  {
   "cell_type": "code",
   "execution_count": 13,
   "metadata": {},
   "outputs": [
    {
     "name": "stderr",
     "output_type": "stream",
     "text": [
      "[NbConvertApp] Converting notebook TEWLx2.ipynb to html\n",
      "[NbConvertApp] Writing 362237 bytes to TEWLx2.html\n"
     ]
    }
   ],
   "source": [
    "! jupyter nbconvert TEWLx2.ipynb --template toc2"
   ]
  },
  {
   "cell_type": "code",
   "execution_count": null,
   "metadata": {},
   "outputs": [],
   "source": []
  }
 ],
 "metadata": {
  "kernelspec": {
   "display_name": "Python 3",
   "language": "python",
   "name": "python3"
  },
  "language_info": {
   "codemirror_mode": {
    "name": "ipython",
    "version": 3
   },
   "file_extension": ".py",
   "mimetype": "text/x-python",
   "name": "python",
   "nbconvert_exporter": "python",
   "pygments_lexer": "ipython3",
   "version": "3.8.5"
  },
  "toc": {
   "base_numbering": 1,
   "nav_menu": {},
   "number_sections": true,
   "sideBar": true,
   "skip_h1_title": false,
   "title_cell": "Table of Contents",
   "title_sidebar": "Contents",
   "toc_cell": true,
   "toc_position": {
    "height": "calc(100% - 180px)",
    "left": "10px",
    "top": "150px",
    "width": "470.125px"
   },
   "toc_section_display": true,
   "toc_window_display": true
  }
 },
 "nbformat": 4,
 "nbformat_minor": 4
}
